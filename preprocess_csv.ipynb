{
 "cells": [
  {
   "cell_type": "code",
   "execution_count": 1,
   "id": "e358fb94",
   "metadata": {},
   "outputs": [],
   "source": [
    "import csv\n",
    "from collections import OrderedDict\n",
    "import numpy as np\n",
    "import os\n",
    "from os.path import exists\n",
    "import collections\n",
    "from geopy.geocoders import Nominatim"
   ]
  },
  {
   "cell_type": "code",
   "execution_count": 3,
   "id": "c1500f89",
   "metadata": {},
   "outputs": [],
   "source": [
    "def process_csv(filename):\n",
    "    exampleFile = open(filename, encoding=\"utf-8\")\n",
    "    exampleReader = csv.reader(exampleFile)\n",
    "    exampleData = list(exampleReader)\n",
    "    exampleFile.close()\n",
    "    return exampleData"
   ]
  },
  {
   "cell_type": "code",
   "execution_count": null,
   "id": "320c2030",
   "metadata": {},
   "outputs": [],
   "source": [
    "def geocode(filename):\n",
    "    with open(filename, 'r') as fid:\n",
    "        header_list = fid.readline().strip().split(\",\")\n",
    "        header_list.append(\"Hour\")\n",
    "        header_list.append(\"Day\")\n",
    "        header_list.append(\"Month\")\n",
    "        header_list.append(\"Year\")\n",
    "\n",
    "    with open('data_updated.csv', 'w', encoding='UTF8', newline='') as f:\n",
    "        with open(filename, newline='') as csvfile:\n",
    "            reader = csv.DictReader(csvfile)\n",
    "            geolocator = Nominatim(user_agent=\"geoapiExercises\")\n",
    "            writer = csv.writer(f)\n",
    "            writer.writerow(header_list)\n",
    "\n",
    "            count = 0\n",
    "            s_count = 0\n",
    "            c_count = 0\n",
    "            exit_c = 0\n",
    "            for row in reader:\n",
    "\n",
    "                curr_val = row['Start_Time']\n",
    "                if row['City'] == \"\" or row['City'] == None:\n",
    "                    count += 1\n",
    "                    location = geolocator.geocode(row['Zipcode'])\n",
    "                    details = location.address.split(\",\")\n",
    "                    row['City'] = details[0]\n",
    "                    #print(row['ID'], details[0], \"city\")\n",
    "\n",
    "                time_split = curr_val.split(\" \")\n",
    "                day_split = time_split[0].split(\"-\")\n",
    "                hour_split = time_split[1].split(\":\")\n",
    "                row['Hour'] = hour_split[0]\n",
    "                row[\"Day\"] = day_split[2]\n",
    "                row[\"Month\"] = day_split[1]\n",
    "                row[\"Year\"] = day_split[0]\n",
    "                # print(row,row['Hour'],row[\"Day\"],row[\"Month\"],row[\"Year\"],\"crow\")\n",
    "\n",
    "                writer.writerow(row.values())"
   ]
  },
  {
   "cell_type": "code",
   "execution_count": null,
   "id": "15aa9a2a",
   "metadata": {},
   "outputs": [],
   "source": [
    "input_file = \"data.csv\"\n",
    "output_file = \"data_updated.csv\"\n",
    "dataset = \"US_Accidents.csv\"\n",
    " \n",
    "#geocode (input_file)\n",
    "\n",
    "csv_rows = process_csv(output_file)\n",
    "csv_header = csv_rows[0]\n",
    "csv_data = csv_rows[1:10]"
   ]
  },
  {
   "cell_type": "code",
   "execution_count": null,
   "id": "7e065388",
   "metadata": {},
   "outputs": [],
   "source": [
    "new_list = [[\"Severity\",\"Start_Time\",\"Side\",\"City\",\"County\",\"State\",\"Zipcode\",\"Visibility(mi)\",\"Weather_Condition\",\"Crossing\",\"Junction\",\"No_Exit\",\"Traffic_Signal\",\"Turning_Loop\",\"Hour\",\"Day\",\"Month\",\"Year\"]]\n",
    "\n",
    "for row in csv_data:\n",
    "    new_row = []\n",
    "    for i in range(len(csv_header)):\n",
    "        if i == 1 or i == 2 or i == 12 or i == 13 or i == 14 or i == 15 or i == 16 or i == 25 or i == 29 or i == 32 or i == 34 or i == 35 or i == 41 or i == 42 or i == 47 or i == 48 or i == 49 or i == 50:\n",
    "            new_row.append(row[i])\n",
    "    new_list.append(new_row)\n",
    "        \n",
    "new_list[0]"
   ]
  },
  {
   "cell_type": "code",
   "execution_count": 5,
   "id": "15ae24cc",
   "metadata": {},
   "outputs": [],
   "source": [
    "with open(dataset, 'w', newline='') as f:\n",
    "    writer = csv.writer(f)\n",
    "    writer.writerows(new_list)"
   ]
  },
  {
   "cell_type": "code",
   "execution_count": 6,
   "id": "7573981d",
   "metadata": {},
   "outputs": [
    {
     "name": "stdout",
     "output_type": "stream",
     "text": [
      "done\n"
     ]
    }
   ],
   "source": [
    "print (\"done\")"
   ]
  },
  {
   "cell_type": "code",
   "execution_count": null,
   "id": "66ec7159",
   "metadata": {},
   "outputs": [],
   "source": []
  }
 ],
 "metadata": {
  "kernelspec": {
   "display_name": "Python 3 (ipykernel)",
   "language": "python",
   "name": "python3"
  },
  "language_info": {
   "codemirror_mode": {
    "name": "ipython",
    "version": 3
   },
   "file_extension": ".py",
   "mimetype": "text/x-python",
   "name": "python",
   "nbconvert_exporter": "python",
   "pygments_lexer": "ipython3",
   "version": "3.9.7"
  }
 },
 "nbformat": 4,
 "nbformat_minor": 5
}
