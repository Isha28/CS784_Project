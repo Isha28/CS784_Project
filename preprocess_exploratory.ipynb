{
 "cells": [
  {
   "cell_type": "code",
   "execution_count": 1,
   "id": "e358fb94",
   "metadata": {},
   "outputs": [],
   "source": [
    "import csv\n",
    "from collections import OrderedDict\n",
    "import numpy as np\n",
    "import os\n",
    "from os.path import exists\n",
    "import collections\n",
    "from geopy.geocoders import Nominatim\n",
    "import pandas as pd\n",
    "import numpy as np\n",
    "import seaborn as sns"
   ]
  },
  {
   "cell_type": "code",
   "execution_count": 4,
   "id": "c1500f89",
   "metadata": {},
   "outputs": [],
   "source": [
    "def process_csv(filename):\n",
    "    exampleFile = open(filename, encoding=\"utf-8\")\n",
    "    exampleReader = csv.reader(exampleFile)\n",
    "    exampleData = list(exampleReader)\n",
    "    exampleFile.close()\n",
    "    return exampleData"
   ]
  },
  {
   "cell_type": "code",
   "execution_count": 3,
   "id": "320c2030",
   "metadata": {},
   "outputs": [],
   "source": [
    "def geocode(filename):\n",
    "    with open(filename, 'r') as fid:\n",
    "        header_list = fid.readline().strip().split(\",\")\n",
    "        header_list.append(\"Hour\")\n",
    "        header_list.append(\"Day\")\n",
    "        header_list.append(\"Month\")\n",
    "        header_list.append(\"Year\")\n",
    "\n",
    "    with open('data_updated.csv', 'w', encoding='UTF8', newline='') as f:\n",
    "        with open(filename, newline='') as csvfile:\n",
    "            reader = csv.DictReader(csvfile)\n",
    "            geolocator = Nominatim(user_agent=\"geoapiExercises\")\n",
    "            writer = csv.writer(f)\n",
    "            writer.writerow(header_list)\n",
    "\n",
    "            count = 0\n",
    "            s_count = 0\n",
    "            c_count = 0\n",
    "            exit_c = 0\n",
    "            for row in reader:\n",
    "\n",
    "                curr_val = row['Start_Time']\n",
    "                if row['City'] == \"\" or row['City'] == None:\n",
    "                    count += 1\n",
    "                    location = geolocator.geocode(row['Zipcode'])\n",
    "                    details = location.address.split(\",\")\n",
    "                    row['City'] = details[0]\n",
    "                    #print(row['ID'], details[0], \"city\")\n",
    "\n",
    "                time_split = curr_val.split(\" \")\n",
    "                day_split = time_split[0].split(\"-\")\n",
    "                hour_split = time_split[1].split(\":\")\n",
    "                row['Hour'] = hour_split[0]\n",
    "                row[\"Day\"] = day_split[2]\n",
    "                row[\"Month\"] = day_split[1]\n",
    "                row[\"Year\"] = day_split[0]\n",
    "                # print(row,row['Hour'],row[\"Day\"],row[\"Month\"],row[\"Year\"],\"crow\")\n",
    "\n",
    "                writer.writerow(row.values())"
   ]
  },
  {
   "cell_type": "code",
   "execution_count": 5,
   "id": "15aa9a2a",
   "metadata": {},
   "outputs": [],
   "source": [
    "input_file = \"data.csv\"\n",
    "output_file = \"data_updated.csv\"\n",
    "dataset = \"US_Accidents.csv\"\n",
    " \n",
    "#geocode (input_file)\n",
    "\n",
    "csv_rows = process_csv(output_file)\n",
    "csv_header = csv_rows[0]\n",
    "csv_data = csv_rows[1:]"
   ]
  },
  {
   "cell_type": "code",
   "execution_count": 6,
   "id": "7e065388",
   "metadata": {},
   "outputs": [
    {
     "data": {
      "text/plain": [
       "['Severity',\n",
       " 'Start_Time',\n",
       " 'Distance(mi)',\n",
       " 'Side',\n",
       " 'City',\n",
       " 'County',\n",
       " 'State',\n",
       " 'Zipcode',\n",
       " 'Visibility(mi)',\n",
       " 'Weather_Condition',\n",
       " 'Bump',\n",
       " 'Crossing',\n",
       " 'Junction',\n",
       " 'No_Exit',\n",
       " 'Traffic_Signal',\n",
       " 'Turning_Loop',\n",
       " 'Hour',\n",
       " 'Day',\n",
       " 'Month',\n",
       " 'Year']"
      ]
     },
     "execution_count": 6,
     "metadata": {},
     "output_type": "execute_result"
    }
   ],
   "source": [
    "new_list = [[\"Severity\",\"Start_Time\",\"Distance(mi)\",\"Side\",\"City\",\"County\",\"State\",\"Zipcode\",\"Visibility(mi)\",\"Weather_Condition\",\"Bump\",\"Crossing\",\"Junction\",\"No_Exit\",\"Traffic_Signal\",\"Turning_Loop\",\"Hour\",\"Day\",\"Month\",\"Year\"]]\n",
    "\n",
    "for row in csv_data:\n",
    "    new_row = []\n",
    "    for i in range(len(csv_header)):\n",
    "        if i == 1 or i == 2 or i== 8 or  i == 12 or i == 13 or i == 14 or i == 15 or i == 16 or i == 25 or i == 29 or i == 31 or i == 32 or i == 34 or i == 35 or i == 41 or i == 42 or i == 47 or i == 48 or i == 49 or i == 50:\n",
    "            new_row.append(row[i])\n",
    "    new_list.append(new_row)\n",
    "        \n",
    "new_list[0]"
   ]
  },
  {
   "cell_type": "code",
   "execution_count": 65,
   "id": "15ae24cc",
   "metadata": {},
   "outputs": [],
   "source": [
    "with open(dataset, 'w', newline='') as f:\n",
    "    writer = csv.writer(f)\n",
    "    writer.writerows(new_list)"
   ]
  },
  {
   "cell_type": "code",
   "execution_count": 8,
   "id": "7573981d",
   "metadata": {},
   "outputs": [
    {
     "name": "stdout",
     "output_type": "stream",
     "text": [
      "done\n"
     ]
    }
   ],
   "source": [
    "print(\"done\")"
   ]
  },
  {
   "cell_type": "code",
   "execution_count": 45,
   "id": "66ec7159",
   "metadata": {},
   "outputs": [
    {
     "name": "stdout",
     "output_type": "stream",
     "text": [
      "False False False False OH 00 Light Rain\n",
      "False False False False OH 05 Light Rain\n",
      "False False False False OH 06 Overcast\n",
      "False False False False OH 06 Overcast\n",
      "False False False False OH 07 Light Rain\n",
      "True False False False OH 08 Overcast\n",
      "False False False False OH 08 Mostly Cloudy\n",
      "False False False False OH 11 Snow\n",
      "False False False False OH 14 Overcast\n",
      "False False False False OH 15 Snow\n",
      "False False False False OH 15 Light Snow\n",
      "True False False True OH 16 Overcast\n",
      "False False False False OH 17 Light Snow\n",
      "False False False False OH 17 Light Snow\n",
      "False False False False OH 18 Mostly Cloudy\n",
      "False False False False OH 18 Mostly Cloudy\n",
      "False False False False OH 19 Overcast\n",
      "False False False False OH 19 Overcast\n",
      "False False False False OH 20 Light Snow\n",
      "False False False False OH 21 Overcast\n",
      "False False False False IN 21 Light Snow\n",
      "False False False False KY 21 Light Snow\n",
      "False False False False OH 05 Light Snow\n",
      "False False False False OH 06 Light Snow\n",
      "False False False False OH 06 Light Snow\n",
      "False False False False IN 07 Cloudy\n",
      "False False False False OH 07 Light Snow\n",
      "False False False False OH 07 Light Snow\n",
      "False False False False IN 07 Light Snow\n",
      "False False False False IN 07 Light Snow\n",
      "False False False False IN 07 Light Snow\n",
      "False False False False OH 08 Light Snow\n",
      "False False False False WV 08 Light Snow\n",
      "False False False False IN 08 Overcast\n",
      "False False False False MI 09 Light Snow\n",
      "False False False False IN 10 Overcast\n",
      "False False False False MI 11 Light Snow\n",
      "False False False False PA 11 Light Snow\n",
      "False False False False PA 12 Light Snow\n",
      "False False False False OH 15 Light Snow\n",
      "False False False False OH 17 Light Snow\n",
      "False False False False OH 17 Light Snow\n",
      "False False False False IN 18 Light Snow\n",
      "False False False False IN 18 Light Snow\n",
      "False False False False IN 22 Light Snow\n",
      "False False False False IN 22 Light Snow\n",
      "False False False False OH 06 Light Snow\n",
      "False False False False OH 06 Light Snow\n",
      "False False False False IN 06 Light Snow\n",
      "False False False False OH 08 Light Snow\n",
      "False False False False PA 08 Light Snow\n",
      "False False False False OH 08 Light Snow\n",
      "False False False False OH 08 Light Snow\n",
      "False False False False OH 08 Light Snow\n",
      "False False False False IN 08 \n",
      "False False False False OH 09 Light Snow\n",
      "False False False False KY 09 Mostly Cloudy\n",
      "False False False False KY 09 Mostly Cloudy\n",
      "False False False False KY 09 Mostly Cloudy\n",
      "False False False False OH 09 Light Snow\n",
      "False False False False OH 09 Light Snow\n",
      "False False False False OH 10 Light Snow\n",
      "False False False False PA 10 Light Snow\n",
      "False False False False OH 10 Light Snow\n",
      "False False False False WV 11 Light Snow\n",
      "False False False False OH 11 Overcast\n",
      "False False False False OH 12 Light Snow\n",
      "False False False False OH 13 Light Snow\n",
      "False False False False OH 13 Light Snow\n",
      "False False False False OH 14 Light Snow\n",
      "False False False False OH 14 Light Snow\n",
      "False False False False OH 15 Light Snow\n",
      "False False False False OH 15 Overcast\n",
      "False False False False OH 15 Overcast\n",
      "False False False False PA 16 Overcast\n",
      "False False False False WV 17 Light Snow\n",
      "False False False False OH 17 Light Snow\n",
      "False False False False OH 21 Light Snow\n",
      "False False False False IN 05 Overcast\n",
      "False False False False OH 05 Overcast\n",
      "False False False False OH 05 Light Snow\n",
      "False False False False IN 06 Overcast\n",
      "False False False False OH 06 Overcast\n",
      "False False False False OH 06 Scattered Clouds\n",
      "False False False False OH 06 Overcast\n",
      "False False False False OH 06 Mostly Cloudy\n",
      "False False False False KY 06 Overcast\n",
      "False False False False KY 06 Overcast\n",
      "False False False False IN 07 Overcast\n",
      "False False False False WV 07 Mostly Cloudy\n",
      "False False False False WV 07 Mostly Cloudy\n",
      "False False False False OH 07 Light Snow\n",
      "False False False False IN 07 Mostly Cloudy\n",
      "False False False False WV 07 Cloudy\n",
      "False False False False OH 07 Overcast\n",
      "False False False False OH 07 Overcast\n",
      "False False False False OH 07 Clear\n",
      "False False False False OH 08 Mostly Cloudy\n",
      "False False False False OH 08 Clear\n",
      "False False False False OH 08 \n",
      "False False False False WV 08 Scattered Clouds\n",
      "False False False False OH 08 \n",
      "False False False False OH 09 Clear\n",
      "False False False False OH 09 Overcast\n",
      "True False False False IN 09 Clear\n",
      "False False False False OH 10 Scattered Clouds\n",
      "False False False False OH 10 Overcast\n",
      "False False False False OH 11 Light Snow\n",
      "False False False False IN 12 Mostly Cloudy\n",
      "False False False False OH 11 Clear\n",
      "False False False False OH 12 Light Snow\n",
      "False False False False OH 13 Light Snow\n",
      "False False False False PA 13 Mostly Cloudy\n",
      "True False False False OH 13 Overcast\n",
      "False False False False OH 13 Overcast\n",
      "False False False False OH 14 Partly Cloudy\n",
      "False False False False WV 15 Mostly Cloudy\n",
      "False False False False OH 15 Light Snow\n",
      "False False False False PA 16 Mostly Cloudy\n",
      "False False False False OH 17 Light Snow\n",
      "False False False False OH 17 Clear\n",
      "False False False False OH 17 Scattered Clouds\n",
      "False False False False OH 17 Light Snow\n",
      "False False False False OH 17 Light Snow\n",
      "False False False False KY 18 Scattered Clouds\n",
      "False False False False OH 18 Mostly Cloudy\n",
      "False False False False OH 18 Mostly Cloudy\n",
      "False False False False OH 19 Clear\n",
      "False False False False OH 19 Clear\n",
      "False False False False OH 19 Clear\n",
      "False False False False OH 19 Mostly Cloudy\n",
      "False False False True PA 19 Scattered Clouds\n",
      "False False False False PA 19 Scattered Clouds\n",
      "False False False False OH 19 Light Snow\n",
      "False False False False OH 20 Clear\n",
      "False False False False OH 20 Scattered Clouds\n",
      "False False False False OH 10 Overcast\n",
      "False False False False MI 16 Mostly Cloudy\n",
      "False False False False PA 19 Light Snow\n",
      "False False False False IN 22 Scattered Clouds\n",
      "False False False False IN 22 Partly Cloudy\n",
      "False False False False IN 22 Partly Cloudy\n",
      "False False False False IN 22 Scattered Clouds\n",
      "False False False False IN 22 Partly Cloudy\n",
      "False False False False OH 23 Light Snow\n",
      "False False False False KY 23 Overcast\n",
      "False False False False KY 23 Overcast\n",
      "False False False False OH 04 Overcast\n",
      "False False False False PA 07 Partly Cloudy\n",
      "False False False False PA 09 Scattered Clouds\n",
      "False False False False OH 16 Clear\n",
      "False False False False OH 18 Overcast\n",
      "True False False True PA 18 Scattered Clouds\n",
      "False False False False OH 22 Clear\n",
      "False False False False PA 03 Clear\n",
      "False False False False OH 05 Scattered Clouds\n",
      "False False False False IN 16 Snow\n",
      "False False False False IN 16 Overcast\n",
      "False False False False IN 17 \n",
      "False False False False OH 18 Light Snow\n",
      "False False False False IN 18 \n",
      "False False False False IN 18 Overcast\n",
      "False False False False PA 02 Overcast\n",
      "False False False False PA 03 Overcast\n",
      "False False False False PA 04 Overcast\n",
      "False False False False PA 05 Overcast\n",
      "False False False False OH 05 Light Freezing Drizzle\n",
      "False False False False OH 06 Light Snow\n",
      "False False False False IN 06 Overcast\n",
      "False False False False IN 06 Overcast\n",
      "False False False False IN 06 Overcast\n",
      "False False False False OH 07 Overcast\n",
      "False False False False IN 07 Overcast\n",
      "False False False False KY 07 Light Drizzle\n",
      "False False False False OH 07 Overcast\n",
      "False False False False IN 07 Overcast\n",
      "False False False False IN 07 Overcast\n",
      "False False False False MI 07 Overcast\n",
      "False False False False OH 08 Overcast\n",
      "False False False False OH 08 Overcast\n",
      "False False False False OH 10 Overcast\n",
      "False False False False OH 10 Overcast\n",
      "False False False False OH 10 Overcast\n",
      "False False False False OH 11 Overcast\n",
      "False False False False OH 12 Overcast\n",
      "False False False False IN 13 Overcast\n",
      "False False False False OH 14 Overcast\n",
      "False False False False MI 14 Overcast\n",
      "False False False False OH 16 Overcast\n",
      "False False False False OH 16 Overcast\n",
      "False False False False OH 19 Overcast\n",
      "False False False False IN 20 Overcast\n",
      "False False False False IN 20 Overcast\n",
      "False False False False IN 23 Overcast\n",
      "False False False False IN 23 Overcast\n",
      "False False False False PA 23 Light Snow\n",
      "False False False False IN 00 Overcast\n",
      "False False False False IN 00 Overcast\n",
      "False False False False OH 02 Light Snow\n",
      "False False False False OH 04 Light Snow\n",
      "0 100 100 100 100\n",
      "26.239 240.93800000000002 92.65199999999997 303.871\n",
      "[0, 8640, 175886, 7515, 8171] Cross\n",
      "[0, 12, 968, 26, 15] bump\n",
      "[0, 0, 118638, 29924, 25261] severity vs clear weather\n",
      "[0, 0, 0, 0, 0] severity vs rain\n",
      "[0, 0, 121, 14, 27] severity vs snow\n",
      "[0, 0, 30780, 8709, 5643] severity vs clouds\n",
      "[0, 11949, 223353, 16549, 13412] signal\n",
      "[0, 0, 0, 0, 0] turning\n",
      "[0, 26053, 2532991, 155105, 131193] severity\n",
      "[0, 20601, 400207, 24090, 21598] multiple\n",
      "[130958.51999999855, 88369.79300000209, 170.19299999999996, 30083.56000000028] weather vs dist\n",
      "0 done\n"
     ]
    }
   ],
   "source": [
    "severity_distance = [[] for i in range(5)]\n",
    "#severity vs different road conditions\n",
    "severity_crossing = [0 for i in range(5)]\n",
    "severity_bump = [0 for i in range(5)]\n",
    "severity_turning = [0 for i in range(5)]\n",
    "severity_signal = [0 for i in range(5)]\n",
    "severity_daynight = [(0,0) for i in range(5)]\n",
    "#weather vs severity\n",
    "severity_clear = [0 for i in range(5)]\n",
    "severity_dust = [0 for i in range(5)]\n",
    "severity_snow = [0 for i in range(5)]\n",
    "severity_sand = [0 for i in range(5)]\n",
    "\n",
    "#mutliple vs \n",
    "severity_stats = [0 for i in range(5)]\n",
    "severity_multiple = [0 for i in range(5)]\n",
    "#\n",
    "weather_dist = [0 for i in range(4)]\n",
    "count_a,count_b,count_c,count_d = 0,0,0,0\n",
    "\n",
    "count = 0\n",
    "multiple = 0\n",
    "year_c = 0\n",
    "with open(\"US_Accidents.csv\", newline='',encoding='utf-8') as csvfile:\n",
    "    cropped_data = csv.DictReader(csvfile)\n",
    "    #print(cropped_data)\n",
    "    for row in cropped_data:\n",
    "        if count < 200:\n",
    "            print(row['Traffic_Signal'],row['Turning_Loop'],row['Bump'],row['Crossing'],row['State'],row['Hour'],row['Weather_Condition'])\n",
    "        #print(row['Severity'],row['Distance(mi)'] , \"here\")\n",
    "        count += 1\n",
    "        if len(severity_distance[int(row['Severity'])]) < 100:\n",
    "            severity_distance[int(row['Severity'])].append(float(row['Distance(mi)']))\n",
    "            \n",
    "        if row['Crossing'] == 'True':\n",
    "            severity_crossing[int(row['Severity'])] += 1\n",
    "            severity_multiple[int(row['Severity'])] += 1\n",
    "        if row['Bump'] == 'True':\n",
    "            severity_bump[int(row['Severity'])] += 1\n",
    "            severity_multiple[int(row['Severity'])] += 1\n",
    "        if row['Turning_Loop'] == 'True':\n",
    "            severity_turning[int(row['Severity'])] += 1\n",
    "            severity_multiple[int(row['Severity'])] += 1\n",
    "        if row['Traffic_Signal'] == 'True':\n",
    "            #print(\"signal True\")\n",
    "            severity_signal[int(row['Severity'])] += 1\n",
    "            severity_multiple[int(row['Severity'])] += 1\n",
    "        severity_stats[int(row['Severity'])] += 1\n",
    "        if row['Year'] == 2016:\n",
    "            year_c += 1\n",
    "        \n",
    "        \n",
    "        if row['Weather_Condition'] == \"Clear\":\n",
    "            severity_clear[int(row['Severity'])] += 1\n",
    "            #if count_a < 10:\n",
    "            weather_dist[0] += float(row['Distance(mi)'])\n",
    "                #count_a += 1\n",
    "        elif row['Weather_Condition'] == \"Light Rain\":\n",
    "            severity_dust[int(row['Severity'])]\n",
    "            #if count_b < 10:\n",
    "            weather_dist[1] += float(row['Distance(mi)'])\n",
    "                #count_b += 1\n",
    "        elif row['Weather_Condition'] == \"Blowing Snow\":\n",
    "            severity_snow[int(row['Severity'])] += 1\n",
    "            #if count_c < 10:\n",
    "            weather_dist[2] += float(row['Distance(mi)'])\n",
    "                #count_c += 1\n",
    "        elif row['Weather_Condition'] == \"Scattered Clouds\":\n",
    "            severity_sand[int(row['Severity'])] += 1\n",
    "           # if count_d < 10:\n",
    "            weather_dist[3] += float(row['Distance(mi)'])\n",
    "            #count_d += 1\n",
    "                \n",
    "        #if len(severity_distance[1]) == 100 and len(severity_distance[2]) == 100 and len(severity_distance[3]) == 100 and len(severity_distance[4]) == 100:\n",
    "           # print(\"All done\")\n",
    "            \n",
    "print(len(severity_distance[0]),len(severity_distance[1]),len(severity_distance[2]),len(severity_distance[3]),len(severity_distance[4]))\n",
    "print(sum(severity_distance[1]),sum(severity_distance[2]),sum(severity_distance[3]),sum(severity_distance[4]))\n",
    "print(severity_crossing,\"Cross\")\n",
    "print(severity_bump,\"bump\")\n",
    "print(severity_clear,\"severity vs clear weather\")\n",
    "print(severity_dust,\"severity vs rain\")\n",
    "print(severity_snow,\"severity vs snow\")\n",
    "print(severity_sand,\"severity vs clouds\")\n",
    "\n",
    "print(severity_signal,\"signal\")\n",
    "print(severity_turning,\"turning\")\n",
    "print(severity_stats,\"severity\")\n",
    "print(severity_multiple,\"multiple\")\n",
    "print(weather_dist,\"weather vs dist\")\n",
    "print(year_c,\"done\")"
   ]
  },
  {
   "cell_type": "code",
   "execution_count": 5,
   "id": "3b49a97d",
   "metadata": {},
   "outputs": [
    {
     "ename": "ValueError",
     "evalue": "I/O operation on closed file.",
     "output_type": "error",
     "traceback": [
      "\u001b[1;31m---------------------------------------------------------------------------\u001b[0m",
      "\u001b[1;31mValueError\u001b[0m                                Traceback (most recent call last)",
      "\u001b[1;32m~\\AppData\\Local\\Temp/ipykernel_9180/1068620668.py\u001b[0m in \u001b[0;36m<module>\u001b[1;34m\u001b[0m\n\u001b[1;32m----> 1\u001b[1;33m \u001b[1;32mfor\u001b[0m \u001b[0mrow\u001b[0m \u001b[1;32min\u001b[0m \u001b[0mcropped_data\u001b[0m\u001b[1;33m:\u001b[0m\u001b[1;33m\u001b[0m\u001b[1;33m\u001b[0m\u001b[0m\n\u001b[0m\u001b[0;32m      2\u001b[0m     \u001b[0mpoints\u001b[0m \u001b[1;33m=\u001b[0m \u001b[1;33m[\u001b[0m\u001b[1;33m[\u001b[0m\u001b[1;33m]\u001b[0m \u001b[1;32mfor\u001b[0m \u001b[0mi\u001b[0m \u001b[1;32min\u001b[0m \u001b[0mrange\u001b[0m\u001b[1;33m(\u001b[0m\u001b[1;36m4\u001b[0m\u001b[1;33m)\u001b[0m\u001b[1;33m]\u001b[0m\u001b[1;33m\u001b[0m\u001b[1;33m\u001b[0m\u001b[0m\n\u001b[0;32m      3\u001b[0m     \u001b[0mprint\u001b[0m\u001b[1;33m(\u001b[0m\u001b[0mrow\u001b[0m\u001b[1;33m)\u001b[0m\u001b[1;33m\u001b[0m\u001b[1;33m\u001b[0m\u001b[0m\n\u001b[0;32m      4\u001b[0m     \u001b[0mprint\u001b[0m\u001b[1;33m(\u001b[0m\u001b[0mrow\u001b[0m\u001b[1;33m[\u001b[0m\u001b[1;34m'Severity'\u001b[0m\u001b[1;33m]\u001b[0m\u001b[1;33m,\u001b[0m\u001b[0mrow\u001b[0m\u001b[1;33m[\u001b[0m\u001b[1;34m'Distance(mi)'\u001b[0m\u001b[1;33m]\u001b[0m \u001b[1;33m,\u001b[0m \u001b[1;34m\"here\"\u001b[0m\u001b[1;33m)\u001b[0m\u001b[1;33m\u001b[0m\u001b[1;33m\u001b[0m\u001b[0m\n\u001b[0;32m      5\u001b[0m     \u001b[0mpoints\u001b[0m\u001b[1;33m[\u001b[0m\u001b[0mrow\u001b[0m\u001b[1;33m[\u001b[0m\u001b[1;34m'Severity'\u001b[0m\u001b[1;33m]\u001b[0m\u001b[1;33m]\u001b[0m\u001b[1;33m.\u001b[0m\u001b[0mappend\u001b[0m\u001b[1;33m(\u001b[0m\u001b[1;33m(\u001b[0m\u001b[0mrow\u001b[0m\u001b[1;33m[\u001b[0m\u001b[1;34m'Severity'\u001b[0m\u001b[1;33m]\u001b[0m\u001b[1;33m,\u001b[0m\u001b[0mrow\u001b[0m\u001b[1;33m[\u001b[0m\u001b[1;34m'Distance(mi)'\u001b[0m\u001b[1;33m]\u001b[0m\u001b[1;33m)\u001b[0m\u001b[1;33m)\u001b[0m\u001b[1;33m\u001b[0m\u001b[1;33m\u001b[0m\u001b[0m\n",
      "\u001b[1;32m~\\anaconda3\\lib\\csv.py\u001b[0m in \u001b[0;36m__next__\u001b[1;34m(self)\u001b[0m\n\u001b[0;32m    109\u001b[0m             \u001b[1;31m# Used only for its side effect.\u001b[0m\u001b[1;33m\u001b[0m\u001b[1;33m\u001b[0m\u001b[0m\n\u001b[0;32m    110\u001b[0m             \u001b[0mself\u001b[0m\u001b[1;33m.\u001b[0m\u001b[0mfieldnames\u001b[0m\u001b[1;33m\u001b[0m\u001b[1;33m\u001b[0m\u001b[0m\n\u001b[1;32m--> 111\u001b[1;33m         \u001b[0mrow\u001b[0m \u001b[1;33m=\u001b[0m \u001b[0mnext\u001b[0m\u001b[1;33m(\u001b[0m\u001b[0mself\u001b[0m\u001b[1;33m.\u001b[0m\u001b[0mreader\u001b[0m\u001b[1;33m)\u001b[0m\u001b[1;33m\u001b[0m\u001b[1;33m\u001b[0m\u001b[0m\n\u001b[0m\u001b[0;32m    112\u001b[0m         \u001b[0mself\u001b[0m\u001b[1;33m.\u001b[0m\u001b[0mline_num\u001b[0m \u001b[1;33m=\u001b[0m \u001b[0mself\u001b[0m\u001b[1;33m.\u001b[0m\u001b[0mreader\u001b[0m\u001b[1;33m.\u001b[0m\u001b[0mline_num\u001b[0m\u001b[1;33m\u001b[0m\u001b[1;33m\u001b[0m\u001b[0m\n\u001b[0;32m    113\u001b[0m \u001b[1;33m\u001b[0m\u001b[0m\n",
      "\u001b[1;31mValueError\u001b[0m: I/O operation on closed file."
     ]
    }
   ],
   "source": [
    "for row in cropped_data:\n",
    "    points = [[] for i in range(4)]\n",
    "    print(row)\n",
    "    print(row['Severity'],row['Distance(mi)'] , \"here\")\n",
    "    points[row['Severity']].append((row['Severity'],row['Distance(mi)']))\n",
    "print(points)\n",
    "    "
   ]
  },
  {
   "cell_type": "code",
   "execution_count": 17,
   "id": "1124b4b9",
   "metadata": {},
   "outputs": [
    {
     "data": {
      "image/png": "[encoded data removed]",
      "text/plain": [
       "<Figure size 432x288 with 1 Axes>"
      ]
     },
     "metadata": {
      "needs_background": "light"
     },
     "output_type": "display_data"
    }
   ],
   "source": [
    "df = pd.DataFrame({'Year':[2016,2017,2018,2019,2020,2021], 'Accidents':[122024,163918,163176,258615,625864,1511745]})\n",
    "ax = df.plot.bar(x='Year', y='Accidents', rot=0)"
   ]
  },
  {
   "cell_type": "code",
   "execution_count": 25,
   "id": "e41f1ace",
   "metadata": {},
   "outputs": [
    {
     "data": {
      "image/png": "[encoded data removed]",
      "text/plain": [
       "<Figure size 432x288 with 1 Axes>"
      ]
     },
     "metadata": {
      "needs_background": "light"
     },
     "output_type": "display_data"
    }
   ],
   "source": [
    "#what is dist values? max dist? avg dist in miles?\n",
    "df = pd.DataFrame({'Severity':[1,2,3,4], 'Distance':[26.239,240.93800000000002,92.65199999999997,303.871]})\n",
    "ax = df.plot.bar(x='Severity', y='Distance', rot=0) #remove 3rd severity?"
   ]
  },
  {
   "cell_type": "code",
   "execution_count": 26,
   "id": "9d6b950f",
   "metadata": {},
   "outputs": [],
   "source": [
    "#doubt what is dist values? max dist? avg dist in miles? #histogram requires sequence of values to be put in bucket\n",
    "# df = pd.DataFrame({\"\": [1,2,3,4], \"Distance\": [26.239,240.93800000000002,92.65199999999997,303.871]})\n",
    "# ax = df.plot.hist(column=[\"Severity\"], by=\"Distance\", figsize=(10, 8))"
   ]
  },
  {
   "cell_type": "code",
   "execution_count": 29,
   "id": "cbf311f8",
   "metadata": {},
   "outputs": [
    {
     "data": {
      "image/png": "[encoded data removed]",
      "text/plain": [
       "<Figure size 360x360 with 1 Axes>"
      ]
     },
     "metadata": {},
     "output_type": "display_data"
    }
   ],
   "source": [
    "#severity vs crossing - doubt - is it sev 1,2,3,4 or vice versa - this pattern of answer makes not much sense\n",
    "df = pd.DataFrame({'Crossings': [33,6,4,6]},\n",
    "                  index=['Sev 1','Sev 2','Sev 3','Sev 4'])\n",
    "plot = df.plot.pie(y='Crossings', figsize=(5, 5))"
   ]
  },
  {
   "cell_type": "code",
   "execution_count": 34,
   "id": "49697a87",
   "metadata": {},
   "outputs": [
    {
     "data": {
      "image/png": "[encoded data removed]",
      "text/plain": [
       "<Figure size 360x360 with 1 Axes>"
      ]
     },
     "metadata": {},
     "output_type": "display_data"
    }
   ],
   "source": [
    "#severity vs bump()\n",
    "#[ 0.0004,0.00038,0.00016,0.00011]\n",
    "df = pd.DataFrame({'Bumps': [0.4,0.38,0.16,0.11]},  #x1000 \n",
    "                  index=['Sev 1','Sev 2','Sev 3','Sev 4'])\n",
    "plot = df.plot.pie(y='Bumps', figsize=(5, 5))"
   ]
  },
  {
   "cell_type": "code",
   "execution_count": null,
   "id": "1cd4a1f9",
   "metadata": {},
   "outputs": [],
   "source": [
    "severity = [1,2,3,4]\n",
    "weather_clear = severity_clear[1:]\n",
    "weather_rain = severity_dust[1:] # rain\n",
    "weather_snow = severity_snow[1:]\n",
    "weather_sand = severity_sand[1:]"
   ]
  },
  {
   "cell_type": "code",
   "execution_count": 43,
   "id": "6a34fec9",
   "metadata": {},
   "outputs": [
    {
     "name": "stdout",
     "output_type": "stream",
     "text": [
      "[0, 118638, 29924, 25261] [0, 0, 0, 0] [0, 121, 14, 27] [0, 30780, 8709, 5643]\n"
     ]
    },
    {
     "data": {
      "image/png": "[encoded data removed]",
      "text/plain": [
       "<Figure size 432x288 with 1 Axes>"
      ]
     },
     "metadata": {
      "needs_background": "light"
     },
     "output_type": "display_data"
    }
   ],
   "source": [
    "#severity vs weather #[no accident 1 with weather clear] [0,0.046,0.192,0.192]   [ 4 weather attributes ]\n",
    "# why five values in list? # rain replaced by something else? and leave sev 1\n",
    "print (weather_clear, weather_rain, weather_snow, weather_sand)\n",
    "df = pd.DataFrame({'weather_clear': weather_clear,\n",
    "                   'weather_rain': weather_rain,\n",
    "                   'weather_snow': weather_snow,\n",
    "                   'weather_sand': weather_sand}, index=severity)\n",
    "ax = df.plot.bar(rot=0)"
   ]
  },
  {
   "cell_type": "code",
   "execution_count": 46,
   "id": "a4b4fa1e",
   "metadata": {},
   "outputs": [
    {
     "data": {
      "image/png": "[encoded data removed]",
      "text/plain": [
       "<Figure size 432x288 with 1 Axes>"
      ]
     },
     "metadata": {
      "needs_background": "light"
     },
     "output_type": "display_data"
    }
   ],
   "source": [
    "#severity vs traffic signal [0, 11949, 223353, 16549, 13412] signal\n",
    "#get 100 points in each severity? - count number of traffic signals in each\n",
    "traffic_signal = [11949, 223353, 16549, 13412]\n",
    "df = pd.DataFrame({'Severity':[1,2,3,4], 'Traffic_Signal':traffic_signal})\n",
    "ax = df.plot.bar(x='Severity', y='Traffic_Signal', rot=0) #remove 3rd severity?"
   ]
  },
  {
   "cell_type": "code",
   "execution_count": 47,
   "id": "282bd801",
   "metadata": {},
   "outputs": [
    {
     "data": {
      "image/png": "[encoded data removed]",
      "text/plain": [
       "<Figure size 432x288 with 1 Axes>"
      ]
     },
     "metadata": {
      "needs_background": "light"
     },
     "output_type": "display_data"
    }
   ],
   "source": [
    "#severity vs multiple [count atleast one road condition for each severity ]\n",
    "#[0, 20601, 400207, 24090, 21598] multiple\n",
    "df = pd.DataFrame({'Severity':[1,2,3,4], 'Multiple':[20601, 400207, 24090, 21598]})\n",
    "ax = df.plot.bar(x='Severity', y='Multiple', rot=0) #remove 3rd severity?"
   ]
  },
  {
   "cell_type": "code",
   "execution_count": 49,
   "id": "cd6c4a94",
   "metadata": {},
   "outputs": [
    {
     "data": {
      "image/png": "[encoded data removed]",
      "text/plain": [
       "<Figure size 360x360 with 1 Axes>"
      ]
     },
     "metadata": {},
     "output_type": "display_data"
    }
   ],
   "source": [
    "#weather vs distance [ clear weather should have less distance of all --  collect 10 points for each weather]  [2.819, 11.474, 24.534000000000002, 2.448] weather vs dist   0.28,1.1,2.45,0.24\n",
    "#[130958.51999999855, 88369.79300000209, 170.19299999999996, 30083.56000000028] weather vs dist\n",
    "# snow is negligible here\n",
    "df = pd.DataFrame({'Distance': [130958.51999999855, 88369.79300000209, 170.19299999999996, 30083.56000000028]},\n",
    "                  index=['Clear', 'Rain', 'Snow', 'Sand'])\n",
    "plot = df.plot.pie(y='Distance', figsize=(5, 5))"
   ]
  },
  {
   "cell_type": "code",
   "execution_count": null,
   "id": "bdfc4990",
   "metadata": {},
   "outputs": [],
   "source": []
  }
 ],
 "metadata": {
  "kernelspec": {
   "display_name": "Python 3 (ipykernel)",
   "language": "python",
   "name": "python3"
  },
  "language_info": {
   "codemirror_mode": {
    "name": "ipython",
    "version": 3
   },
   "file_extension": ".py",
   "mimetype": "text/x-python",
   "name": "python",
   "nbconvert_exporter": "python",
   "pygments_lexer": "ipython3",
   "version": "3.9.7"
  }
 },
 "nbformat": 4,
 "nbformat_minor": 5
}
